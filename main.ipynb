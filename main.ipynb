{
 "cells": [
  {
   "cell_type": "markdown",
   "id": "a4e5c5b2-12f3-4982-a0ba-966f18638266",
   "metadata": {},
   "source": [
    "# Linear regression\n",
    "A linear regression model prediction: \n",
    "$y=\\theta_0+\\theta_0 x_1+\\theta_2 x_2$"
   ]
  },
  {
   "cell_type": "code",
   "execution_count": 1,
   "id": "03eda23c-4ac7-40cf-aa2f-06dac5dafc6b",
   "metadata": {},
   "outputs": [
    {
     "name": "stdout",
     "output_type": "stream",
     "text": [
      "          X          y\n",
      "0     0.001   4.314825\n",
      "1     0.002   4.398001\n",
      "2     0.003   4.288719\n",
      "3     0.004   4.523691\n",
      "4     0.005   4.519217\n",
      "...     ...        ...\n",
      "2191  2.192  11.566848\n",
      "2192  2.193  11.090112\n",
      "2193  2.194  11.088024\n",
      "2194  2.195  10.728325\n",
      "2195  2.196  10.877373\n",
      "\n",
      "[2196 rows x 2 columns]\n"
     ]
    }
   ],
   "source": [
    "import pandas\n",
    "df = pandas.read_csv('data.csv')\n",
    "print(df)"
   ]
  },
  {
   "cell_type": "code",
   "execution_count": null,
   "id": "ba1290b2-911b-4ab3-b22c-d4e2bbf48a16",
   "metadata": {},
   "outputs": [],
   "source": []
  }
 ],
 "metadata": {
  "kernelspec": {
   "display_name": "Python 3 (ipykernel)",
   "language": "python",
   "name": "python3"
  },
  "language_info": {
   "codemirror_mode": {
    "name": "ipython",
    "version": 3
   },
   "file_extension": ".py",
   "mimetype": "text/x-python",
   "name": "python",
   "nbconvert_exporter": "python",
   "pygments_lexer": "ipython3",
   "version": "3.8.10"
  }
 },
 "nbformat": 4,
 "nbformat_minor": 5
}
